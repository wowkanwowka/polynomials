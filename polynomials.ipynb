{
 "cells": [
  {
   "cell_type": "code",
   "execution_count": 142,
   "metadata": {
    "collapsed": false
   },
   "outputs": [],
   "source": [
    "from IPython.display import display, Math, Latex\n",
    "from itertools import product, combinations\n",
    "import copy\n",
    "class monomial:\n",
    "    #just initialization\n",
    "    def __init__(self, fixed_part, running_indices):\n",
    "        self.fixed_part = fixed_part.copy()\n",
    "        self.running_indices = running_indices.copy()\n",
    "        self.list_of_indices = {elem[0] : elem[1] for elem in running_indices.keys()}\n",
    "    #gathering a latex style string to represent monomial    \n",
    "    def __str__(self):\n",
    "        result = \"\"\n",
    "        for i in self.fixed_part.keys():\n",
    "            result += \"x_\" + str(i)\n",
    "            if self.fixed_part[i] > 1:\n",
    "                result += \"^{\" + str(self.fixed_part[i]) + \"}\"\n",
    "        for i in self.running_indices.keys():\n",
    "            result += \"x_{\" + i[0] + \"+\" + str(i[1]) + \"}\"\n",
    "            if self.running_indices[i] > 1:\n",
    "                result += \"^{\" + str(self.running_indices[i]) + \"}\"\n",
    "        result = result.replace(\"+0\", \"\")\n",
    "        if len(result) == 0:\n",
    "            result = \"1\"\n",
    "        return result\n",
    "    \n",
    "    #overriding addition\n",
    "    def __add__(self, other):\n",
    "        if type(self) == type(other):\n",
    "            if self == other:\n",
    "                return polynomial({self : 2})\n",
    "            else:\n",
    "                return polynomial({self : 1, other : 1})\n",
    "        elif type(other) == polynomial:\n",
    "            result = other.monomial_dict\n",
    "            if self in result.monomial_dict.keys():\n",
    "                result[self] += 1\n",
    "            else:\n",
    "                result[self] = 1\n",
    "            return polynomial(result)\n",
    "            \n",
    "    #overriding subtraction\n",
    "    def __sub__(self, other):\n",
    "        if type(self) == type(other):\n",
    "            if self == other:\n",
    "                return polynomial({})\n",
    "            else:\n",
    "                return polynomial({self : 1, other : -1})\n",
    "    #overriding multiplication\n",
    "    def __mul__(self, other):\n",
    "        if type(self) == type(other):\n",
    "            result_fix = self.fixed_part.copy()\n",
    "            result_run = self.running_indices.copy()\n",
    "            for elem in other.fixed_part.keys():\n",
    "                if elem in result_fix.keys():\n",
    "                    result_fix[elem] += other.fixed_part[elem]\n",
    "                else:\n",
    "                    result_fix[elem] = other.fixed_part[elem]\n",
    "            for elem in other.running_indices.keys():\n",
    "                if elem in result_run.keys():\n",
    "                    result_run[elem] += other.running_indices[elem]\n",
    "                else:\n",
    "                    result_run[elem] = other.running_indices[elem]\n",
    "            return monomial(result_fix, result_run)\n",
    "        elif type(other) == polynomial:\n",
    "            result = polynomial({self * elem : other.monomial_dict[elem] for elem in other.monomial_dict.keys()})\n",
    "            return result\n",
    "    def __rmul__(self, other):\n",
    "        return self.__mul__(other)\n",
    "    #equality check\n",
    "    def __eq__(self, other):\n",
    "        return ((self.fixed_part == other.fixed_part) and (self.running_indices == other.running_indices))\n",
    "    #makes hash out from string representation in order to use monomials as dict keys\n",
    "    def __hash__(self):\n",
    "        return hash(self.__str__())\n",
    "    #changes index_to_change into what_to_insert(must be of form (\"index\", number added to \"index\"))\n",
    "    #this method changes self\n",
    "    def self_substitution(self, index_to_change, what_to_insert):\n",
    "        if index_to_change in self.list_of_indices.keys():\n",
    "            if what_to_insert[0] == \"\":\n",
    "                helper = self.running_indices.copy()\n",
    "                for elem in helper.keys():\n",
    "                    if index_to_change == elem[0]:\n",
    "                        b = what_to_insert[1] + elem[1]\n",
    "                        deg = self.running_indices[elem]\n",
    "                        self.running_indices.pop(elem)\n",
    "                        if b in self.fixed_part.keys():\n",
    "                            self.fixed_part[b] += deg\n",
    "                        else:\n",
    "                            self.fixed_part[b] = deg\n",
    "            else:\n",
    "                helper = self.running_indices.copy()\n",
    "                for elem in helper.keys():\n",
    "                    if index_to_change == elem[0]:\n",
    "                        b = what_to_insert[1] + elem[1]\n",
    "                        deg = self.running_indices[elem]\n",
    "                        self.running_indices.pop(elem)\n",
    "                        if (what_to_insert[0], b) in self.running_indices.keys():\n",
    "                            self.running_indices[(what_to_insert[0], b)] += deg\n",
    "                        else:\n",
    "                            self.running_indices[(what_to_insert[0], b)] = deg\n",
    "                #self.list_of_indices.pop(index_to_change)\n",
    "                #self.list_of_indices[what_to_insert[0]] = b\n",
    "                \n",
    "    #does the same as self_substitution, without changing self, but creating a copy        \n",
    "    def copy_substitution(self, index_to_change, what_to_insert):\n",
    "        result = monomial(self.fixed_part, self.running_indices)\n",
    "        result.self_substitution(index_to_change, what_to_insert)\n",
    "        return result\n",
    "    \n",
    "    #if return_gcd is true returns a three element tuple (gcd, self freed from gcd, other freed from gcd)\n",
    "    #otherwise returns only freed self and other\n",
    "    def free_from_gcd(self, other, return_gcd):\n",
    "        self_copy = monomial(self.fixed_part, self.running_indices)\n",
    "        other_copy = monomial(other.fixed_part, other.running_indices)\n",
    "        sure_fixed_part = {}\n",
    "        sure_running_indices = {}\n",
    "        helper = self_copy.running_indices.copy()\n",
    "        for elem in helper.keys():\n",
    "            if elem in other_copy.running_indices.keys():\n",
    "                if self_copy.running_indices[elem] == other_copy.running_indices[elem]:\n",
    "                    sure_running_indices[elem] = self_copy.running_indices[elem]\n",
    "                    self_copy.running_indices.pop(elem)\n",
    "                    other_copy.running_indices.pop(elem)\n",
    "                elif other_copy.running_indices[elem] < self_copy.running_indices[elem]:\n",
    "                    sure_running_indices[elem] = other_copy.running_indices[elem]\n",
    "                    self_copy.running_indices[elem] -= other_copy.running_indices[elem]\n",
    "                    other_copy.running_indices.pop(elem)\n",
    "                else:\n",
    "                    sure_running_indices[elem] = self_copy.running_indices[elem]\n",
    "                    other_copy.running_indices[elem] -= self_copy.running_indices[elem]\n",
    "                    self_copy.running_indices.pop(elem)\n",
    "        helper = self_copy.fixed_part.copy()\n",
    "        for elem in helper.keys():\n",
    "            if elem in other_copy.fixed_part.keys():\n",
    "                if self_copy.fixed_part[elem] == other_copy.fixed_part[elem]:\n",
    "                    sure_fixed_part[elem] = self_copy.fixed_part[elem]\n",
    "                    self_copy.fixed_part.pop(elem)\n",
    "                    other_copy.fixed_part.pop(elem)\n",
    "                elif other_copy.fixed_part[elem] < self_copy.fixed_part[elem]:\n",
    "                    sure_fixed_part[elem] = other_copy.fixed_part[elem]\n",
    "                    self_copy.fixed_part[elem] -= other_copy.fixed_part[elem]\n",
    "                    other_copy.fixed_part.pop(elem)\n",
    "                else:\n",
    "                    sure_fixed_part[elem] = self_copy.fixed_part[elem]\n",
    "                    other_copy.fixed_part[elem] -= self_copy.fixed_part[elem]\n",
    "                    self_copy.running_indices.pop(elem)\n",
    "        if return_gcd:\n",
    "            return (monomial(sure_fixed_part, sure_running_indices), self_copy, other_copy)\n",
    "        else:\n",
    "            return (self_copy, other_copy)\n",
    "    \n",
    "    #finds any possible substitution leading to self and other having common variables\n",
    "    def possible_intersections(self, other):\n",
    "        possible_running_indices = {}\n",
    "        self_copy, other_copy = self.free_from_gcd(other, return_gcd = False)\n",
    "        #display(Math(self_copy.__str__()))\n",
    "        #display(Math(other_copy.__str__()))\n",
    "        for elem in self_copy.running_indices.keys():\n",
    "            listik = []\n",
    "            for elem1 in other_copy.fixed_part.keys():\n",
    "                listik.append((\"\", elem1 - elem[1]))\n",
    "                #print(elem[0], \"should be equal to \", elem1 - elem[1])\n",
    "            for elem2 in other_copy.running_indices.keys():\n",
    "                if elem2[0] != elem[0]:\n",
    "                    listik.append((elem2[0], elem2[1] - elem[1]))\n",
    "                    #print(elem[0], \"should be equal to \", elem2[0], \"+\", elem2[1] - elem[1])\n",
    "            if len(listik) > 0:\n",
    "                possible_running_indices[elem[0]] = listik\n",
    "        for elem in other_copy.running_indices.keys():\n",
    "            listik = []\n",
    "            for elem1 in self_copy.fixed_part.keys():\n",
    "                listik.append((\"\", elem1 - elem[1]))\n",
    "            if elem[0] in possible_running_indices.keys():\n",
    "                possible_running_indices[elem[0]].extend(listik)\n",
    "            elif len(listik) > 0:\n",
    "                possible_running_indices[elem[0]] = listik\n",
    "        result = [list(set([(key, value)  for value in possible_running_indices[key]]))\n",
    "                  for key in possible_running_indices.keys()]\n",
    "        return result\n",
    "    \n",
    "    #just pretty latex printing function\n",
    "    def print(self):\n",
    "        display(Math(self.__str__()))\n",
    "            \n",
    "\n",
    "class polynomial:\n",
    "    \n",
    "    #just initialization\n",
    "    def __init__(self, monomial_dict):\n",
    "        #self.monomial_dict = monomial_dict.copy()\n",
    "        self.monomial_dict = copy.deepcopy(monomial_dict)\n",
    "        for elem in monomial_dict.keys():\n",
    "            if self.monomial_dict[elem] == 0:\n",
    "                self.monomial_dict.pop(elem)\n",
    "                \n",
    "    #overriding addition for polynomials            \n",
    "    def __add__(self, other):\n",
    "        if type(self) == type(other): \n",
    "            result_dict = copy.deepcopy(self.monomial_dict)\n",
    "            for elem in other.monomial_dict.keys():\n",
    "                if elem in result_dict.keys():\n",
    "                    result_dict[elem] += other.monomial_dict[elem]\n",
    "                else:\n",
    "                    result_dict[elem] = other.monomial_dict[elem]\n",
    "            return polynomial(result_dict)\n",
    "        elif type(other) == monomial:\n",
    "            return other * self\n",
    "        \n",
    "    #overriding subtraction for polynomials\n",
    "    def __sub__(self, other):\n",
    "        if type(self) == type(other):\n",
    "            result_dict = copy.deepcopy(self.monomial_dict)\n",
    "            for elem in other.monomial_dict.keys():\n",
    "                if elem in result_dict.keys():\n",
    "                    result_dict[elem] -= other.monomial_dict[elem]\n",
    "                else:\n",
    "                    result_dict[elem] = -other.monomial_dict[elem]\n",
    "            return polynomial(result_dict)\n",
    "    #overriding multiplication for polynomials\n",
    "    def __mul__(self, other):\n",
    "        if type(self) == type(other):\n",
    "            result = polynomial({})\n",
    "            for elem in self.monomial_dict.keys():\n",
    "                helper = elem * other\n",
    "                for elem1 in helper.monomial_dict.keys():\n",
    "                    helper.monomial_dict[elem1] *= self.monomial_dict[elem]\n",
    "                result += helper\n",
    "            return result\n",
    "        elif type(other) == monomial:\n",
    "            return other * self\n",
    "    #gathering a latex style string in order to represent a polynomial\n",
    "    def __str__(self):\n",
    "        result = \"\"\n",
    "        for elem in self.monomial_dict.keys():\n",
    "            if self.monomial_dict[elem] != 1 and self.monomial_dict[elem] != -1:\n",
    "                result += \"+\" + str(self.monomial_dict[elem]) + elem.__str__()\n",
    "            elif self.monomial_dict[elem] == -1:\n",
    "                result += \"-\" + elem.__str__()\n",
    "            else:\n",
    "                result += \"+\" + elem.__str__()\n",
    "        result = result.replace(\"+-\", \"-\")\n",
    "        result = result.replace(\"++\", \"+\")\n",
    "        if result[0] == \"+\":\n",
    "            result = result[1 : ]\n",
    "        if len(result) == 0:\n",
    "            result = \"0\"\n",
    "        return result\n",
    "    #performs a substitution same to the self_substitution for monomials\n",
    "    def self_substitution(self, index_to_change, what_to_insert):\n",
    "        for elem in self.monomial_dict.keys():\n",
    "            elem.substitution(index_to_change, what_to_insert)\n",
    "    #performs a substitution same to the copy_substitution for monomials\n",
    "    def copy_substitution(self, index_to_change, what_to_insert):\n",
    "        result = {elem.copy_substitution(index_to_change, what_to_insert) : self.monomial_dict[elem] \n",
    "                  for elem in self.monomial_dict.keys()}\n",
    "        return polynomial(result)\n",
    "    #pretty latex printing function\n",
    "    def print(self):\n",
    "        display(Math(self.__str__()))\n",
    "        \n",
    "#def S_polynomial(polynomial_1, polynomial_2, leading_monomial_1, leading_monomial_2):\n",
    "#    fix_leader_1 = {elem : leading_monomial_1.fixed_part[elem] if not (elem in leading_monomial_2.fixed_part.keys()) \n",
    "#                    for elem in leading_monomial_1.fixed_part.keys()}"
   ]
  },
  {
   "cell_type": "code",
   "execution_count": 129,
   "metadata": {
    "collapsed": false
   },
   "outputs": [],
   "source": [
    "m1 = monomial(fixed_part = {0 : 1, 5 : 2}, running_indices = {(\"k_1\", 2) :  1, (\"p\", 5) : 4})"
   ]
  },
  {
   "cell_type": "code",
   "execution_count": 130,
   "metadata": {
    "collapsed": false
   },
   "outputs": [],
   "source": [
    "m2 = monomial({0 : 1, 7 : 1}, {(\"k_1\", 1) : 9, (\"l\", 1) : 5})"
   ]
  },
  {
   "cell_type": "code",
   "execution_count": 107,
   "metadata": {
    "collapsed": false
   },
   "outputs": [],
   "source": [
    "p = m1.free_from_gcd(m2)"
   ]
  },
  {
   "cell_type": "code",
   "execution_count": 111,
   "metadata": {
    "collapsed": false
   },
   "outputs": [
    {
     "data": {
      "text/latex": [
       "$$x_0x_5^{2}x_{k_1+2}x_{p+5}^{4}$$"
      ],
      "text/plain": [
       "<IPython.core.display.Math object>"
      ]
     },
     "metadata": {},
     "output_type": "display_data"
    },
    {
     "data": {
      "text/latex": [
       "$$x_0x_7x_{k_1+1}^{9}x_{l+1}^{5}$$"
      ],
      "text/plain": [
       "<IPython.core.display.Math object>"
      ]
     },
     "metadata": {},
     "output_type": "display_data"
    },
    {
     "name": "stdout",
     "output_type": "stream",
     "text": [
      "gcd is:\n"
     ]
    },
    {
     "data": {
      "text/latex": [
       "$$x_0$$"
      ],
      "text/plain": [
       "<IPython.core.display.Math object>"
      ]
     },
     "metadata": {},
     "output_type": "display_data"
    },
    {
     "data": {
      "text/latex": [
       "$$x_5^{2}x_{k_1+2}x_{p+5}^{4}$$"
      ],
      "text/plain": [
       "<IPython.core.display.Math object>"
      ]
     },
     "metadata": {},
     "output_type": "display_data"
    },
    {
     "data": {
      "text/latex": [
       "$$x_7x_{k_1+1}^{9}x_{l+1}^{5}$$"
      ],
      "text/plain": [
       "<IPython.core.display.Math object>"
      ]
     },
     "metadata": {},
     "output_type": "display_data"
    }
   ],
   "source": [
    "m1.print()\n",
    "m2.print()\n",
    "print(\"gcd is:\")\n",
    "p[0].print()\n",
    "p[1].print()\n",
    "p[2].print()"
   ]
  },
  {
   "cell_type": "code",
   "execution_count": 131,
   "metadata": {
    "collapsed": false
   },
   "outputs": [
    {
     "data": {
      "text/latex": [
       "$$x_0x_5^{2}x_{k_1+2}x_{p+5}^{4}$$"
      ],
      "text/plain": [
       "<IPython.core.display.Math object>"
      ]
     },
     "metadata": {},
     "output_type": "display_data"
    },
    {
     "data": {
      "text/latex": [
       "$$x_0x_7x_{k_1+1}^{9}x_{l+1}^{5}$$"
      ],
      "text/plain": [
       "<IPython.core.display.Math object>"
      ]
     },
     "metadata": {},
     "output_type": "display_data"
    },
    {
     "name": "stdout",
     "output_type": "stream",
     "text": [
      "[[('p', ('l', -4)), ('p', ('', 2)), ('p', ('k_1', -4))], [('k_1', ('', 4)), ('k_1', ('l', -1)), ('k_1', ('', 5))], [('l', ('', 4))]]\n",
      "[[('p', ('', 2))], [('k_1', ('', 4)), ('k_1', ('p', 4)), ('k_1', ('', 5))], [('l', ('k_1', 1)), ('l', ('', 4)), ('l', ('p', 4))]]\n"
     ]
    }
   ],
   "source": [
    "m1.print()\n",
    "m2.print()\n",
    "dict5 = m1.possible_intersections(m2)\n",
    "dict6 = m2.possible_intersections(m1)\n",
    "\n",
    "print(dict5)\n",
    "print(dict6)\n"
   ]
  },
  {
   "cell_type": "code",
   "execution_count": 132,
   "metadata": {
    "collapsed": false
   },
   "outputs": [],
   "source": [
    "p = list(product(*dict5))"
   ]
  },
  {
   "cell_type": "code",
   "execution_count": 141,
   "metadata": {
    "collapsed": false
   },
   "outputs": [
    {
     "data": {
      "text/plain": [
       "[(('p', ('l', -4)), ('k_1', ('', 4)), ('l', ('', 4)))]"
      ]
     },
     "execution_count": 141,
     "metadata": {},
     "output_type": "execute_result"
    }
   ],
   "source": [
    "list(combinations(p[0], 3))"
   ]
  },
  {
   "cell_type": "code",
   "execution_count": 136,
   "metadata": {
    "collapsed": false
   },
   "outputs": [
    {
     "data": {
      "text/plain": [
       "[(('p', ('l', -4)), ('k_1', ('', 4))),\n",
       " (('p', ('l', -4)), ('l', ('', 4))),\n",
       " (('k_1', ('', 4)), ('l', ('', 4)))]"
      ]
     },
     "execution_count": 136,
     "metadata": {},
     "output_type": "execute_result"
    }
   ],
   "source": [
    "x"
   ]
  },
  {
   "cell_type": "code",
   "execution_count": 143,
   "metadata": {
    "collapsed": false
   },
   "outputs": [
    {
     "data": {
      "text/latex": [
       "$$x_0x_{k+1}-x_1x_{k}$$"
      ],
      "text/plain": [
       "<IPython.core.display.Math object>"
      ]
     },
     "metadata": {},
     "output_type": "display_data"
    },
    {
     "data": {
      "text/latex": [
       "$$-x_1x_{l}+x_0x_{l+1}$$"
      ],
      "text/plain": [
       "<IPython.core.display.Math object>"
      ]
     },
     "metadata": {},
     "output_type": "display_data"
    }
   ],
   "source": [
    "m1 = monomial({0 : 1}, {(\"k\", 1) : 1})\n",
    "m2 = monomial({1 : 1}, {(\"k\", 0) : 1})\n",
    "m3 = monomial({0 : 1}, {(\"l\", 1) : 1})\n",
    "m4 = monomial({1 : 1}, {(\"l\", 0) : 1})\n",
    "f1 = m1 - m2\n",
    "f2 = m3 - m4\n",
    "f1.print()\n",
    "f2.print()"
   ]
  },
  {
   "cell_type": "code",
   "execution_count": 144,
   "metadata": {
    "collapsed": false
   },
   "outputs": [],
   "source": [
    "f3 = f1 - f2"
   ]
  },
  {
   "cell_type": "code",
   "execution_count": 145,
   "metadata": {
    "collapsed": false
   },
   "outputs": [
    {
     "data": {
      "text/latex": [
       "$$x_1x_{l}+x_0x_{k+1}-x_0x_{l+1}-x_1x_{k}$$"
      ],
      "text/plain": [
       "<IPython.core.display.Math object>"
      ]
     },
     "metadata": {},
     "output_type": "display_data"
    }
   ],
   "source": [
    "f3.print()"
   ]
  },
  {
   "cell_type": "code",
   "execution_count": 96,
   "metadata": {
    "collapsed": false
   },
   "outputs": [],
   "source": [
    "f1 = m1 + m2\n",
    "f2 = m1 * m2 - m1"
   ]
  },
  {
   "cell_type": "code",
   "execution_count": 97,
   "metadata": {
    "collapsed": false
   },
   "outputs": [
    {
     "data": {
      "text/latex": [
       "$$x_0x_5^{2}x_{k_1+2}x_{p+5}^{4}+x_0x_7x_{k_1+1}^{9}x_{l+1}^{5}$$"
      ],
      "text/plain": [
       "<IPython.core.display.Math object>"
      ]
     },
     "metadata": {},
     "output_type": "display_data"
    },
    {
     "data": {
      "text/latex": [
       "$$-x_0x_5^{2}x_{k_1+2}x_{p+5}^{4}+x_0^{2}x_5^{2}x_7x_{k_1+2}x_{k_1+1}^{9}x_{p+5}^{4}x_{l+1}^{5}$$"
      ],
      "text/plain": [
       "<IPython.core.display.Math object>"
      ]
     },
     "metadata": {},
     "output_type": "display_data"
    }
   ],
   "source": [
    "f1.print()\n",
    "f2.print()"
   ]
  },
  {
   "cell_type": "code",
   "execution_count": 98,
   "metadata": {
    "collapsed": true
   },
   "outputs": [],
   "source": [
    "f3 = f1 * f2"
   ]
  },
  {
   "cell_type": "code",
   "execution_count": 99,
   "metadata": {
    "collapsed": false
   },
   "outputs": [
    {
     "data": {
      "text/latex": [
       "$$-x_0^{2}x_5^{4}x_{k_1+2}^{2}x_{p+5}^{8}-x_0^{2}x_5^{2}x_7x_{k_1+2}x_{k_1+1}^{9}x_{p+5}^{4}x_{l+1}^{5}+x_0^{3}x_5^{2}x_7^{2}x_{k_1+2}x_{k_1+1}^{18}x_{p+5}^{4}x_{l+1}^{10}+x_0^{3}x_5^{4}x_7x_{k_1+2}^{2}x_{k_1+1}^{9}x_{p+5}^{8}x_{l+1}^{5}$$"
      ],
      "text/plain": [
       "<IPython.core.display.Math object>"
      ]
     },
     "metadata": {},
     "output_type": "display_data"
    }
   ],
   "source": [
    "f3.print()"
   ]
  },
  {
   "cell_type": "code",
   "execution_count": 86,
   "metadata": {
    "collapsed": true
   },
   "outputs": [],
   "source": [
    "m3 = m1 * m2"
   ]
  },
  {
   "cell_type": "code",
   "execution_count": 87,
   "metadata": {
    "collapsed": false
   },
   "outputs": [
    {
     "data": {
      "text/latex": [
       "$$x_0^2x_5^2x_7x_{k_1+2}x_{k_1+1}^9x_{p+5}^4x_{l+1}^5$$"
      ],
      "text/plain": [
       "<IPython.core.display.Math object>"
      ]
     },
     "metadata": {},
     "output_type": "display_data"
    }
   ],
   "source": [
    "m3.print()"
   ]
  },
  {
   "cell_type": "code",
   "execution_count": 92,
   "metadata": {
    "collapsed": false
   },
   "outputs": [
    {
     "data": {
      "text/latex": [
       "$$x_0x_5^2x_{k_1+2}x_{p+5}^4$$"
      ],
      "text/plain": [
       "<IPython.core.display.Math object>"
      ]
     },
     "metadata": {},
     "output_type": "display_data"
    },
    {
     "data": {
      "text/latex": [
       "$$x_0x_7x_{k_1+1}^9x_{l+1}^5$$"
      ],
      "text/plain": [
       "<IPython.core.display.Math object>"
      ]
     },
     "metadata": {},
     "output_type": "display_data"
    },
    {
     "data": {
      "text/latex": [
       "$$x_0^2x_5^2x_7x_{k_1+2}x_{k_1+1}^9x_{p+5}^4x_{l+1}^5$$"
      ],
      "text/plain": [
       "<IPython.core.display.Math object>"
      ]
     },
     "metadata": {},
     "output_type": "display_data"
    }
   ],
   "source": [
    "m1.print()\n",
    "m2.print()\n",
    "m3.print()"
   ]
  },
  {
   "cell_type": "code",
   "execution_count": 89,
   "metadata": {
    "collapsed": true
   },
   "outputs": [],
   "source": [
    "m4 = m3 * m2"
   ]
  },
  {
   "cell_type": "code",
   "execution_count": 91,
   "metadata": {
    "collapsed": false
   },
   "outputs": [
    {
     "data": {
      "text/latex": [
       "$$x_0^3x_5^2x_7^2x_{k_1+2}x_{k_1+1}^18x_{p+5}^4x_{l+1}^10$$"
      ],
      "text/plain": [
       "<IPython.core.display.Math object>"
      ]
     },
     "metadata": {},
     "output_type": "display_data"
    },
    {
     "name": "stdout",
     "output_type": "stream",
     "text": [
      "{0: 3, 5: 2, 7: 2} {('k_1', 2): 1, ('k_1', 1): 18, ('p', 5): 4, ('l', 1): 10}\n"
     ]
    }
   ],
   "source": [
    "m4.print()\n",
    "print(m4.fixed_part, m4.running_indices)"
   ]
  },
  {
   "cell_type": "code",
   "execution_count": null,
   "metadata": {
    "collapsed": true
   },
   "outputs": [],
   "source": []
  }
 ],
 "metadata": {
  "anaconda-cloud": {},
  "kernelspec": {
   "display_name": "Python [Root]",
   "language": "python",
   "name": "Python [Root]"
  },
  "language_info": {
   "codemirror_mode": {
    "name": "ipython",
    "version": 3
   },
   "file_extension": ".py",
   "mimetype": "text/x-python",
   "name": "python",
   "nbconvert_exporter": "python",
   "pygments_lexer": "ipython3",
   "version": "3.5.2"
  }
 },
 "nbformat": 4,
 "nbformat_minor": 0
}
