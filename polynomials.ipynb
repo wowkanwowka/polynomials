{
 "cells": [
  {
   "cell_type": "code",
   "execution_count": 539,
   "metadata": {
    "collapsed": false
   },
   "outputs": [],
   "source": [
    "from IPython.display import display, Math, Latex\n",
    "from itertools import product, combinations\n",
    "import copy\n",
    "    \n",
    "\n",
    "class monomial:\n",
    "    #just initialization\n",
    "    def __init__(self, fixed_part, running_indices):\n",
    "        self.fixed_part = fixed_part.copy()\n",
    "        self.running_indices = running_indices.copy()\n",
    "        self.list_of_indices = {elem[0] : elem[1] for elem in running_indices.keys()}\n",
    "    #gathering a latex style string to represent monomial    \n",
    "    def __str__(self):\n",
    "        result = \"\"\n",
    "        f_helper = []\n",
    "        r_helper = []\n",
    "        for i in self.fixed_part.keys():\n",
    "            f_helper.append(i)\n",
    "        for i in self.running_indices.keys():\n",
    "            r_helper.append(i)\n",
    "        f_helper.sort()\n",
    "        r_helper.sort(key = lambda x: (x[0], x[1]))\n",
    "        for i in f_helper:\n",
    "            result += \"x_\" + str(i)\n",
    "            if self.fixed_part[i] > 1:\n",
    "                result += \"^{\" + str(self.fixed_part[i]) + \"}\"\n",
    "        for i in r_helper:\n",
    "            result += \"x_{\" + i[0] + \"+\" + str(i[1]) + \"}\"\n",
    "            if self.running_indices[i] > 1:\n",
    "                result += \"^{\" + str(self.running_indices[i]) + \"}\"\n",
    "        result = result.replace(\"+0\", \"\")\n",
    "        if len(result) == 0:\n",
    "            result = \"1\"\n",
    "        return result\n",
    "    \n",
    "    #overriding addition\n",
    "    def __add__(self, other):\n",
    "        if type(self) == type(other):\n",
    "            if self == other:\n",
    "                return polynomial({self : 2})\n",
    "            else:\n",
    "                return polynomial({self : 1, other : 1})\n",
    "        elif type(other) == polynomial:\n",
    "            result = other.monomial_dict\n",
    "            if self in result.monomial_dict.keys():\n",
    "                result[self] += 1\n",
    "            else:\n",
    "                result[self] = 1\n",
    "            return polynomial(result)\n",
    "            \n",
    "    #overriding subtraction\n",
    "    def __sub__(self, other):\n",
    "        if type(self) == type(other):\n",
    "            if self == other:\n",
    "                return polynomial({})\n",
    "            else:\n",
    "                return polynomial({self : 1, other : -1})\n",
    "    #overriding multiplication\n",
    "    def __mul__(self, other):\n",
    "        if type(self) == type(other):\n",
    "            result_fix = self.fixed_part.copy()\n",
    "            result_run = self.running_indices.copy()\n",
    "            for elem in other.fixed_part.keys():\n",
    "                if elem in result_fix.keys():\n",
    "                    result_fix[elem] += other.fixed_part[elem]\n",
    "                else:\n",
    "                    result_fix[elem] = other.fixed_part[elem]\n",
    "            for elem in other.running_indices.keys():\n",
    "                if elem in result_run.keys():\n",
    "                    result_run[elem] += other.running_indices[elem]\n",
    "                else:\n",
    "                    result_run[elem] = other.running_indices[elem]\n",
    "            return monomial(result_fix, result_run)\n",
    "        elif type(other) == polynomial:\n",
    "            result = polynomial({self * elem : other.monomial_dict[elem] for elem in other.monomial_dict.keys()})\n",
    "            return result\n",
    "    def __rmul__(self, other):\n",
    "        return self.__mul__(other)\n",
    "    #equality check\n",
    "    def __eq__(self, other):\n",
    "        return ((self.fixed_part == other.fixed_part) and (self.running_indices == other.running_indices))\n",
    "    #makes hash out from string representation in order to use monomials as dict keys\n",
    "    def __hash__(self):\n",
    "        return hash(self.__str__())\n",
    "    #changes every index_to_change into what_to_insert (argument \n",
    "    #must be of form tuple of elements (\"index_to_change\", what_to_insert = (\"index\" , number added to \"index\")))\n",
    "    #this method changes self\n",
    "    def self_substitution(self, insertion_tuple):\n",
    "        for elem in insertion_tuple:\n",
    "            index_to_change = elem[0]\n",
    "            what_to_insert = elem[1]\n",
    "            #print(elem)\n",
    "            #print(index_to_change, what_to_insert)\n",
    "            if index_to_change in self.list_of_indices.keys():\n",
    "                if what_to_insert[0] != \"\":\n",
    "                    helper = self.running_indices.copy()\n",
    "                    for elem1 in helper.keys():\n",
    "                        if index_to_change == elem1[0]:\n",
    "                            b = what_to_insert[1] + elem1[1]\n",
    "                            deg = self.running_indices[elem1]\n",
    "                            self.running_indices.pop(elem1)\n",
    "                            self.list_of_indices.pop(index_to_change)\n",
    "                            if (what_to_insert[0], b) in self.running_indices.keys():\n",
    "                                self.running_indices[(what_to_insert[0], b)] += deg\n",
    "                            else:\n",
    "                                self.running_indices[(what_to_insert[0], b)] = deg\n",
    "                                self.list_of_indices[what_to_insert[0]] = b\n",
    "        for elem in insertion_tuple:\n",
    "            index_to_change = elem[0]\n",
    "            what_to_insert = elem[1]\n",
    "            #print(elem)\n",
    "            #print(index_to_change, what_to_insert)\n",
    "            if index_to_change in self.list_of_indices.keys():\n",
    "                if what_to_insert[0] == \"\":\n",
    "                    helper = self.running_indices.copy()\n",
    "                    for elem1 in helper.keys():\n",
    "                        if index_to_change == elem1[0]:\n",
    "                            b = what_to_insert[1] + elem1[1]\n",
    "                            deg = self.running_indices[elem1]\n",
    "                            self.running_indices.pop(elem1)\n",
    "                            if b in self.fixed_part.keys():\n",
    "                                self.fixed_part[b] += deg\n",
    "                            else:\n",
    "                                self.fixed_part[b] = deg\n",
    "        \n",
    "                #self.list_of_indices.pop(index_to_change)\n",
    "                #self.list_of_indices[what_to_insert[0]] = b\n",
    "                \n",
    "    #does the same as self_substitution, without changing self, but creating a copy        \n",
    "    def copy_substitution(self, insertion_tuple):\n",
    "        result = monomial(self.fixed_part, self.running_indices)\n",
    "        result.self_substitution(insertion_tuple)\n",
    "        return result\n",
    "    \n",
    "    #if return_gcd is true returns a three element tuple (gcd, self freed from gcd, other freed from gcd)\n",
    "    #otherwise returns only freed self and other\n",
    "    def free_from_gcd(self, other, return_gcd):\n",
    "        self_copy = monomial(self.fixed_part, self.running_indices)\n",
    "        other_copy = monomial(other.fixed_part, other.running_indices)\n",
    "        sure_fixed_part = {}\n",
    "        sure_running_indices = {}\n",
    "        helper = self_copy.running_indices.copy()\n",
    "        for elem in helper.keys():\n",
    "            if elem in other_copy.running_indices.keys():\n",
    "                if self_copy.running_indices[elem] == other_copy.running_indices[elem]:\n",
    "                    sure_running_indices[elem] = self_copy.running_indices[elem]\n",
    "                    self_copy.running_indices.pop(elem)\n",
    "                    other_copy.running_indices.pop(elem)\n",
    "                elif other_copy.running_indices[elem] < self_copy.running_indices[elem]:\n",
    "                    sure_running_indices[elem] = other_copy.running_indices[elem]\n",
    "                    self_copy.running_indices[elem] -= other_copy.running_indices[elem]\n",
    "                    other_copy.running_indices.pop(elem)\n",
    "                else:\n",
    "                    sure_running_indices[elem] = self_copy.running_indices[elem]\n",
    "                    other_copy.running_indices[elem] -= self_copy.running_indices[elem]\n",
    "                    self_copy.running_indices.pop(elem)\n",
    "        helper = self_copy.fixed_part.copy()\n",
    "        for elem in helper.keys():\n",
    "            if elem in other_copy.fixed_part.keys():\n",
    "                if self_copy.fixed_part[elem] == other_copy.fixed_part[elem]:\n",
    "                    sure_fixed_part[elem] = self_copy.fixed_part[elem]\n",
    "                    self_copy.fixed_part.pop(elem)\n",
    "                    other_copy.fixed_part.pop(elem)\n",
    "                elif other_copy.fixed_part[elem] < self_copy.fixed_part[elem]:\n",
    "                    sure_fixed_part[elem] = other_copy.fixed_part[elem]\n",
    "                    self_copy.fixed_part[elem] -= other_copy.fixed_part[elem]\n",
    "                    other_copy.fixed_part.pop(elem)\n",
    "                else:\n",
    "                    sure_fixed_part[elem] = self_copy.fixed_part[elem]\n",
    "                    other_copy.fixed_part[elem] -= self_copy.fixed_part[elem]\n",
    "                    self_copy.running_indices.pop(elem)\n",
    "        if return_gcd:\n",
    "            return (monomial(sure_fixed_part, sure_running_indices), self_copy, other_copy)\n",
    "        else:\n",
    "            return (self_copy, other_copy)\n",
    "    \n",
    "    #finds any possible substitution leading to self and other having common variables\n",
    "    def possible_intersections(self, other):\n",
    "        possible_running_indices = {}\n",
    "        self_copy, other_copy = self.free_from_gcd(other, return_gcd = False)\n",
    "        #display(Math(self_copy.__str__()))\n",
    "        #display(Math(other_copy.__str__()))\n",
    "        for elem in self_copy.running_indices.keys():\n",
    "            listik = []\n",
    "            for elem1 in other_copy.fixed_part.keys():\n",
    "                listik.append((\"\", elem1 - elem[1]))\n",
    "                #print(elem[0], \"should be equal to \", elem1 - elem[1])\n",
    "            for elem2 in other_copy.running_indices.keys():\n",
    "                if elem2[0] != elem[0]:\n",
    "                    listik.append((elem2[0], elem2[1] - elem[1]))\n",
    "                    #print(elem[0], \"should be equal to \", elem2[0], \"+\", elem2[1] - elem[1])\n",
    "            if len(listik) > 0:\n",
    "                possible_running_indices[elem[0]] = listik\n",
    "        for elem in other_copy.running_indices.keys():\n",
    "            listik = []\n",
    "            for elem1 in self_copy.fixed_part.keys():\n",
    "                listik.append((\"\", elem1 - elem[1]))\n",
    "            if elem[0] in possible_running_indices.keys():\n",
    "                possible_running_indices[elem[0]].extend(listik)\n",
    "            elif len(listik) > 0:\n",
    "                possible_running_indices[elem[0]] = listik\n",
    "        result = [list(set([(key, value)  for value in possible_running_indices[key]]))\n",
    "                  for key in possible_running_indices.keys()]\n",
    "        return result\n",
    "    \n",
    "    #just pretty latex printing function\n",
    "    def print(self):\n",
    "        display(Math(self.__str__()))\n",
    "            \n",
    "\n",
    "class polynomial:\n",
    "    \n",
    "    #just initialization\n",
    "    def __init__(self, monomial_dict):\n",
    "        self.monomial_dict = monomial_dict.copy()\n",
    "        #self.monomial_dict = copy.deepcopy(monomial_dict)\n",
    "        for elem in self.monomial_dict.copy().keys():\n",
    "            if self.monomial_dict[elem] == 0:\n",
    "                self.monomial_dict.pop(elem)\n",
    "                    \n",
    "                \n",
    "    #overriding addition for polynomials            \n",
    "    def __add__(self, other):\n",
    "        if type(self) == type(other):\n",
    "            result_dict = self.monomial_dict.copy()\n",
    "            #result_dict = copy.deepcopy(self.monomial_dict)\n",
    "            for elem in other.monomial_dict.keys():\n",
    "                if elem in result_dict.keys():\n",
    "                    result_dict[elem] += other.monomial_dict[elem]\n",
    "                else:\n",
    "                    result_dict[elem] = other.monomial_dict[elem]\n",
    "            return polynomial(result_dict)\n",
    "        elif type(other) == monomial:\n",
    "            return other * self\n",
    "        \n",
    "    #overriding subtraction for polynomials\n",
    "    def __sub__(self, other):\n",
    "        if type(self) == type(other):\n",
    "            result_dict = self.monomial_dict.copy()\n",
    "            #result_dict = copy.deepcopy(self.monomial_dict)\n",
    "            for elem in other.monomial_dict.keys():\n",
    "                if elem in list(result_dict.keys()):\n",
    "                    result_dict[elem] -= other.monomial_dict[elem]\n",
    "                else:\n",
    "                    result_dict[elem] = -other.monomial_dict[elem]\n",
    "            return polynomial(result_dict)\n",
    "    #overriding multiplication for polynomials\n",
    "    def __mul__(self, other):\n",
    "        if type(self) == type(other):\n",
    "            result = polynomial({})\n",
    "            for elem in self.monomial_dict.keys():\n",
    "                helper = elem * other\n",
    "                for elem1 in helper.monomial_dict.keys():\n",
    "                    helper.monomial_dict[elem1] *= self.monomial_dict[elem]\n",
    "                result += helper\n",
    "            return result\n",
    "        elif type(other) == monomial:\n",
    "            return other * self\n",
    "    #gathering a latex style string in order to represent a polynomial\n",
    "    def __str__(self):\n",
    "        result = \"\"\n",
    "        for elem in self.monomial_dict.keys():\n",
    "            if self.monomial_dict[elem] != 1 and self.monomial_dict[elem] != -1:\n",
    "                result += \"+\" + str(self.monomial_dict[elem]) + elem.__str__()\n",
    "            elif self.monomial_dict[elem] == -1:\n",
    "                result += \"-\" + elem.__str__()\n",
    "            else:\n",
    "                result += \"+\" + elem.__str__()\n",
    "        result = result.replace(\"+-\", \"-\")\n",
    "        result = result.replace(\"++\", \"+\")\n",
    "        if len(result) == 0:\n",
    "            result = \"0\"\n",
    "        if result[0] == \"+\":\n",
    "            result = result[1 : ]\n",
    "        \n",
    "        return result\n",
    "    #performs a substitution same to the self_substitution for monomials\n",
    "    def self_substitution(self, insertion_tuple):\n",
    "        for elem in self.monomial_dict.keys():\n",
    "            elem.substitution(insertion_tuple)\n",
    "    #performs a substitution same to the copy_substitution for monomials\n",
    "    def copy_substitution(self, insertion_tuple):\n",
    "        result = {elem.copy_substitution(insertion_tuple) : self.monomial_dict[elem] \n",
    "                  for elem in self.monomial_dict.keys()}\n",
    "        return polynomial(result)\n",
    "    #pretty latex printing function\n",
    "    def print(self):\n",
    "        display(Math(self.__str__()))\n",
    "        \n",
    "def list_of_substitutions(l):\n",
    "    helper = list(product(*l))\n",
    "    total = []\n",
    "    for i in helper:\n",
    "        helper1 = []\n",
    "        for j in range(len(i) + 1):\n",
    "            helper1.extend(list(combinations(i, j)))\n",
    "        total.extend(helper1)\n",
    "    total = list(set(total))\n",
    "    return total\n",
    "#prints a substitution of running indices (sub) which should be of form tuple of (index_to_change, what_to_insert)\n",
    "def print_sub(sub):\n",
    "    string = \"\"\n",
    "    for elem in sub:\n",
    "        string += elem[0] + r\" \\rightarrow \" + elem[1][0] + \" +\" + str(elem[1][1]) + r\", \\ \"\n",
    "    string = string.replace(\"+-\", \"-\")\n",
    "    string = string.replace(\"+0\", \"\")\n",
    "    display(Math(string))\n",
    "    #computes S_polynomial considering all running indices being different enough so that leading monomials have no \n",
    "    #common variables other than obvious ones\n",
    "def S_polynomial(polynomial_1, polynomial_2, leading_monomial_1, leading_monomial_2):\n",
    "    leader_1, leader_2 = leading_monomial_1.free_from_gcd(leading_monomial_2, return_gcd = False)\n",
    "    return leader_2 * polynomial_1 - leader_1 * polynomial_2\n",
    "#computes every_possible S_polynomial considering substitutions which lead to leading monomials having common variables\n",
    "#other than obvious ones\n",
    "def every_possible_S_polynomial(polynomial_1, polynomial_2, leading_monomial_1, leading_monomial_2):\n",
    "    if leading_monomial_1 in polynomial_1.monomial_dict.keys() and leading_monomial_2 in polynomial_2.monomial_dict.keys():\n",
    "        helper = leading_monomial_1.possible_intersections(leading_monomial_2)\n",
    "        total = list_of_substitutions(helper)\n",
    "        S_polynomials = []\n",
    "        total.sort(key = len)\n",
    "        for elem in total:\n",
    "            #print(\"substitution:\")\n",
    "            f1 = polynomial_1.copy_substitution(elem)\n",
    "            f2 = polynomial_2.copy_substitution(elem)\n",
    "            l1 = leading_monomial_1.copy_substitution(elem)\n",
    "            l2 = leading_monomial_2.copy_substitution(elem)\n",
    "            #print_sub(elem)\n",
    "            #print(\"leads to S_polynomial:\")\n",
    "            f = S_polynomial(f1, f2, l1, l2)\n",
    "            S_polynomials.append(f)\n",
    "            #f.print()\n",
    "            #print(\"_\" * 50)\n",
    "        return (total, S_polynomials)\n",
    "    "
   ]
  },
  {
   "cell_type": "code",
   "execution_count": 324,
   "metadata": {
    "collapsed": false
   },
   "outputs": [],
   "source": [
    "m = monomial({0 : 1, 9 : 3}, {(\"k_1\", 1) : 1, (\"k_2\", 1) : 1})"
   ]
  },
  {
   "cell_type": "code",
   "execution_count": 325,
   "metadata": {
    "collapsed": false
   },
   "outputs": [
    {
     "data": {
      "text/latex": [
       "$$x_0x_9^{3}x_{k_2+1}x_{k_1+1}$$"
      ],
      "text/plain": [
       "<IPython.core.display.Math object>"
      ]
     },
     "metadata": {},
     "output_type": "display_data"
    }
   ],
   "source": [
    "m.print()"
   ]
  },
  {
   "cell_type": "code",
   "execution_count": 326,
   "metadata": {
    "collapsed": false
   },
   "outputs": [
    {
     "data": {
      "text/latex": [
       "$$x_0x_9^{3}x_{k_2+1}x_{k_1+1}$$"
      ],
      "text/plain": [
       "<IPython.core.display.Math object>"
      ]
     },
     "metadata": {},
     "output_type": "display_data"
    },
    {
     "name": "stdout",
     "output_type": "stream",
     "text": [
      "('k_1', ('p', 1))\n",
      "dict_keys(['k_1', 'k_2'])\n"
     ]
    },
    {
     "data": {
      "text/latex": [
       "$$x_0x_9^{3}x_{k_2+1}x_{p+2}$$"
      ],
      "text/plain": [
       "<IPython.core.display.Math object>"
      ]
     },
     "metadata": {},
     "output_type": "display_data"
    },
    {
     "name": "stdout",
     "output_type": "stream",
     "text": [
      "('p', ('', 1))\n",
      "dict_keys(['p', 'k_2'])\n"
     ]
    }
   ],
   "source": [
    "m10 = m.copy_substitution(((\"k_1\", (\"p\", 1)), (\"p\", (\"\", 1))))"
   ]
  },
  {
   "cell_type": "code",
   "execution_count": 327,
   "metadata": {
    "collapsed": false
   },
   "outputs": [
    {
     "data": {
      "text/latex": [
       "$$x_0x_9^{3}x_3x_{k_2+1}$$"
      ],
      "text/plain": [
       "<IPython.core.display.Math object>"
      ]
     },
     "metadata": {},
     "output_type": "display_data"
    }
   ],
   "source": [
    "m10.print()"
   ]
  },
  {
   "cell_type": "code",
   "execution_count": 355,
   "metadata": {
    "collapsed": true
   },
   "outputs": [],
   "source": [
    "m1 = monomial({0 : 1}, {(\"k\", 1) : 1})\n",
    "m2 = monomial({1 : 1}, {(\"k\", 0) : 1})\n",
    "f1 = m1 - m2"
   ]
  },
  {
   "cell_type": "code",
   "execution_count": 356,
   "metadata": {
    "collapsed": false
   },
   "outputs": [
    {
     "data": {
      "text/latex": [
       "$$x_0x_{k+1}-x_1x_{k}$$"
      ],
      "text/plain": [
       "<IPython.core.display.Math object>"
      ]
     },
     "metadata": {},
     "output_type": "display_data"
    }
   ],
   "source": [
    "f1.print()"
   ]
  },
  {
   "cell_type": "code",
   "execution_count": 357,
   "metadata": {
    "collapsed": true
   },
   "outputs": [],
   "source": [
    "f2 = f1.copy_substitution(((\"k\", (\"l\", 0)),))"
   ]
  },
  {
   "cell_type": "code",
   "execution_count": 358,
   "metadata": {
    "collapsed": false
   },
   "outputs": [
    {
     "data": {
      "text/latex": [
       "$$-x_1x_{l}+x_0x_{l+1}$$"
      ],
      "text/plain": [
       "<IPython.core.display.Math object>"
      ]
     },
     "metadata": {},
     "output_type": "display_data"
    }
   ],
   "source": [
    "f2.print()"
   ]
  },
  {
   "cell_type": "code",
   "execution_count": 359,
   "metadata": {
    "collapsed": true
   },
   "outputs": [],
   "source": [
    "m3 = m1.copy_substitution(((\"k\", (\"l\", 0)),))"
   ]
  },
  {
   "cell_type": "code",
   "execution_count": 360,
   "metadata": {
    "collapsed": false
   },
   "outputs": [
    {
     "data": {
      "text/latex": [
       "$$x_0x_{l+1}$$"
      ],
      "text/plain": [
       "<IPython.core.display.Math object>"
      ]
     },
     "metadata": {},
     "output_type": "display_data"
    }
   ],
   "source": [
    "m3.print()"
   ]
  },
  {
   "cell_type": "code",
   "execution_count": 361,
   "metadata": {
    "collapsed": false
   },
   "outputs": [
    {
     "name": "stdout",
     "output_type": "stream",
     "text": [
      "substitution:\n"
     ]
    },
    {
     "data": {
      "text/latex": [
       "$$$$"
      ],
      "text/plain": [
       "<IPython.core.display.Math object>"
      ]
     },
     "metadata": {},
     "output_type": "display_data"
    },
    {
     "name": "stdout",
     "output_type": "stream",
     "text": [
      "leads to S_polynomial:\n"
     ]
    },
    {
     "data": {
      "text/latex": [
       "$$-x_1x_{k}x_{l+1}+x_1x_{l}x_{k+1}$$"
      ],
      "text/plain": [
       "<IPython.core.display.Math object>"
      ]
     },
     "metadata": {},
     "output_type": "display_data"
    },
    {
     "name": "stdout",
     "output_type": "stream",
     "text": [
      "__________________________________________________\n",
      "substitution:\n"
     ]
    },
    {
     "data": {
      "text/latex": [
       "$$k \\rightarrow l +0, \\ $$"
      ],
      "text/plain": [
       "<IPython.core.display.Math object>"
      ]
     },
     "metadata": {},
     "output_type": "display_data"
    },
    {
     "name": "stdout",
     "output_type": "stream",
     "text": [
      "leads to S_polynomial:\n"
     ]
    },
    {
     "data": {
      "text/latex": [
       "$$0$$"
      ],
      "text/plain": [
       "<IPython.core.display.Math object>"
      ]
     },
     "metadata": {},
     "output_type": "display_data"
    },
    {
     "name": "stdout",
     "output_type": "stream",
     "text": [
      "__________________________________________________\n"
     ]
    }
   ],
   "source": [
    "p = every_possible_S_polynomial(f1, f2, m1, m3)"
   ]
  },
  {
   "cell_type": "code",
   "execution_count": 530,
   "metadata": {
    "collapsed": false
   },
   "outputs": [],
   "source": [
    "m1 = monomial({0 : 1}, {(\"k_1\", 1) : 1, (\"k_2\", 5) : 1})\n",
    "m2 = monomial({1 : 1}, {(\"k_1\", 0) : 1, (\"k_2\", 4) : 1})"
   ]
  },
  {
   "cell_type": "code",
   "execution_count": 531,
   "metadata": {
    "collapsed": false
   },
   "outputs": [
    {
     "data": {
      "text/latex": [
       "$$x_0x_{k_1+1}x_{k_2+5}$$"
      ],
      "text/plain": [
       "<IPython.core.display.Math object>"
      ]
     },
     "metadata": {},
     "output_type": "display_data"
    },
    {
     "data": {
      "text/latex": [
       "$$x_1x_{k_1}x_{k_2+4}$$"
      ],
      "text/plain": [
       "<IPython.core.display.Math object>"
      ]
     },
     "metadata": {},
     "output_type": "display_data"
    }
   ],
   "source": [
    "m1.print()\n",
    "m2.print()"
   ]
  },
  {
   "cell_type": "code",
   "execution_count": 532,
   "metadata": {
    "collapsed": false
   },
   "outputs": [],
   "source": [
    "f1 = m1 - m2"
   ]
  },
  {
   "cell_type": "code",
   "execution_count": 533,
   "metadata": {
    "collapsed": false
   },
   "outputs": [
    {
     "data": {
      "text/latex": [
       "$$x_0x_{k_1+1}x_{k_2+5}-x_1x_{k_1}x_{k_2+4}$$"
      ],
      "text/plain": [
       "<IPython.core.display.Math object>"
      ]
     },
     "metadata": {},
     "output_type": "display_data"
    }
   ],
   "source": [
    "f1.print()"
   ]
  },
  {
   "cell_type": "code",
   "execution_count": 534,
   "metadata": {
    "collapsed": false
   },
   "outputs": [],
   "source": [
    "f2 = f1.copy_substitution(((\"k_1\", (\"l_1\", 0)), (\"k_2\", (\"l_2\", 0))))\n",
    "m3 = m1.copy_substitution(((\"k_1\", (\"l_1\", 0)), (\"k_2\", (\"l_2\", 0))))"
   ]
  },
  {
   "cell_type": "code",
   "execution_count": 535,
   "metadata": {
    "collapsed": false
   },
   "outputs": [
    {
     "data": {
      "text/latex": [
       "$$x_0x_{l_1+1}x_{l_2+5}-x_1x_{l_1}x_{l_2+4}$$"
      ],
      "text/plain": [
       "<IPython.core.display.Math object>"
      ]
     },
     "metadata": {},
     "output_type": "display_data"
    },
    {
     "data": {
      "text/latex": [
       "$$x_0x_{l_1+1}x_{l_2+5}$$"
      ],
      "text/plain": [
       "<IPython.core.display.Math object>"
      ]
     },
     "metadata": {},
     "output_type": "display_data"
    }
   ],
   "source": [
    "f2.print()\n",
    "m3.print()"
   ]
  },
  {
   "cell_type": "code",
   "execution_count": 536,
   "metadata": {
    "collapsed": false
   },
   "outputs": [],
   "source": [
    "f = every_possible_S_polynomial(f1, f2, m1, m3)"
   ]
  },
  {
   "cell_type": "code",
   "execution_count": 538,
   "metadata": {
    "collapsed": false
   },
   "outputs": [
    {
     "name": "stdout",
     "output_type": "stream",
     "text": [
      "substitution:\n"
     ]
    },
    {
     "data": {
      "text/latex": [
       "$$$$"
      ],
      "text/plain": [
       "<IPython.core.display.Math object>"
      ]
     },
     "metadata": {},
     "output_type": "display_data"
    },
    {
     "name": "stdout",
     "output_type": "stream",
     "text": [
      "leads to S_polynomial:\n"
     ]
    },
    {
     "data": {
      "text/latex": [
       "$$-x_1x_{k_1}x_{k_2+4}x_{l_1+1}x_{l_2+5}+x_1x_{k_1+1}x_{k_2+5}x_{l_1}x_{l_2+4}$$"
      ],
      "text/plain": [
       "<IPython.core.display.Math object>"
      ]
     },
     "metadata": {},
     "output_type": "display_data"
    },
    {
     "name": "stdout",
     "output_type": "stream",
     "text": [
      "__________________________________________________\n",
      "substitution:\n"
     ]
    },
    {
     "data": {
      "text/latex": [
       "$$k_1 \\rightarrow l_2 +4, \\ $$"
      ],
      "text/plain": [
       "<IPython.core.display.Math object>"
      ]
     },
     "metadata": {},
     "output_type": "display_data"
    },
    {
     "name": "stdout",
     "output_type": "stream",
     "text": [
      "leads to S_polynomial:\n"
     ]
    },
    {
     "data": {
      "text/latex": [
       "$$x_1x_{k_2+5}x_{l_1}x_{l_2+4}-x_1x_{k_2+4}x_{l_1+1}x_{l_2+4}$$"
      ],
      "text/plain": [
       "<IPython.core.display.Math object>"
      ]
     },
     "metadata": {},
     "output_type": "display_data"
    },
    {
     "name": "stdout",
     "output_type": "stream",
     "text": [
      "__________________________________________________\n",
      "substitution:\n"
     ]
    },
    {
     "data": {
      "text/latex": [
       "$$k_1 \\rightarrow l_1 , \\ $$"
      ],
      "text/plain": [
       "<IPython.core.display.Math object>"
      ]
     },
     "metadata": {},
     "output_type": "display_data"
    },
    {
     "name": "stdout",
     "output_type": "stream",
     "text": [
      "leads to S_polynomial:\n"
     ]
    },
    {
     "data": {
      "text/latex": [
       "$$x_1x_{k_2+5}x_{l_1}x_{l_2+4}-x_1x_{k_2+4}x_{l_1}x_{l_2+5}$$"
      ],
      "text/plain": [
       "<IPython.core.display.Math object>"
      ]
     },
     "metadata": {},
     "output_type": "display_data"
    },
    {
     "name": "stdout",
     "output_type": "stream",
     "text": [
      "__________________________________________________\n",
      "substitution:\n"
     ]
    },
    {
     "data": {
      "text/latex": [
       "$$k_2 \\rightarrow l_2 , \\ $$"
      ],
      "text/plain": [
       "<IPython.core.display.Math object>"
      ]
     },
     "metadata": {},
     "output_type": "display_data"
    },
    {
     "name": "stdout",
     "output_type": "stream",
     "text": [
      "leads to S_polynomial:\n"
     ]
    },
    {
     "data": {
      "text/latex": [
       "$$-x_1x_{k_1}x_{l_1+1}x_{l_2+4}+x_1x_{k_1+1}x_{l_1}x_{l_2+4}$$"
      ],
      "text/plain": [
       "<IPython.core.display.Math object>"
      ]
     },
     "metadata": {},
     "output_type": "display_data"
    },
    {
     "name": "stdout",
     "output_type": "stream",
     "text": [
      "__________________________________________________\n",
      "substitution:\n"
     ]
    },
    {
     "data": {
      "text/latex": [
       "$$k_2 \\rightarrow l_1 -4, \\ $$"
      ],
      "text/plain": [
       "<IPython.core.display.Math object>"
      ]
     },
     "metadata": {},
     "output_type": "display_data"
    },
    {
     "name": "stdout",
     "output_type": "stream",
     "text": [
      "leads to S_polynomial:\n"
     ]
    },
    {
     "data": {
      "text/latex": [
       "$$-x_1x_{k_1}x_{l_1}x_{l_2+5}+x_1x_{k_1+1}x_{l_1}x_{l_2+4}$$"
      ],
      "text/plain": [
       "<IPython.core.display.Math object>"
      ]
     },
     "metadata": {},
     "output_type": "display_data"
    },
    {
     "name": "stdout",
     "output_type": "stream",
     "text": [
      "__________________________________________________\n",
      "substitution:\n"
     ]
    },
    {
     "data": {
      "text/latex": [
       "$$k_1 \\rightarrow l_2 +4, \\ k_2 \\rightarrow l_2 , \\ $$"
      ],
      "text/plain": [
       "<IPython.core.display.Math object>"
      ]
     },
     "metadata": {},
     "output_type": "display_data"
    },
    {
     "name": "stdout",
     "output_type": "stream",
     "text": [
      "leads to S_polynomial:\n"
     ]
    },
    {
     "data": {
      "text/latex": [
       "$$x_1x_{l_1}x_{l_2+4}x_{l_2+5}-x_1x_{l_1+1}x_{l_2+4}^{2}$$"
      ],
      "text/plain": [
       "<IPython.core.display.Math object>"
      ]
     },
     "metadata": {},
     "output_type": "display_data"
    },
    {
     "name": "stdout",
     "output_type": "stream",
     "text": [
      "__________________________________________________\n",
      "substitution:\n"
     ]
    },
    {
     "data": {
      "text/latex": [
       "$$k_1 \\rightarrow l_1 , \\ k_2 \\rightarrow l_2 , \\ $$"
      ],
      "text/plain": [
       "<IPython.core.display.Math object>"
      ]
     },
     "metadata": {},
     "output_type": "display_data"
    },
    {
     "name": "stdout",
     "output_type": "stream",
     "text": [
      "leads to S_polynomial:\n"
     ]
    },
    {
     "data": {
      "text/latex": [
       "$$0$$"
      ],
      "text/plain": [
       "<IPython.core.display.Math object>"
      ]
     },
     "metadata": {},
     "output_type": "display_data"
    },
    {
     "name": "stdout",
     "output_type": "stream",
     "text": [
      "__________________________________________________\n",
      "substitution:\n"
     ]
    },
    {
     "data": {
      "text/latex": [
       "$$k_1 \\rightarrow l_1 , \\ k_2 \\rightarrow l_1 -4, \\ $$"
      ],
      "text/plain": [
       "<IPython.core.display.Math object>"
      ]
     },
     "metadata": {},
     "output_type": "display_data"
    },
    {
     "name": "stdout",
     "output_type": "stream",
     "text": [
      "leads to S_polynomial:\n"
     ]
    },
    {
     "data": {
      "text/latex": [
       "$$x_1x_{l_1}x_{l_1+1}x_{l_2+4}-x_1x_{l_1}^{2}x_{l_2+5}$$"
      ],
      "text/plain": [
       "<IPython.core.display.Math object>"
      ]
     },
     "metadata": {},
     "output_type": "display_data"
    },
    {
     "name": "stdout",
     "output_type": "stream",
     "text": [
      "__________________________________________________\n",
      "substitution:\n"
     ]
    },
    {
     "data": {
      "text/latex": [
       "$$k_1 \\rightarrow l_2 +4, \\ k_2 \\rightarrow l_1 -4, \\ $$"
      ],
      "text/plain": [
       "<IPython.core.display.Math object>"
      ]
     },
     "metadata": {},
     "output_type": "display_data"
    },
    {
     "name": "stdout",
     "output_type": "stream",
     "text": [
      "leads to S_polynomial:\n"
     ]
    },
    {
     "data": {
      "text/latex": [
       "$$0$$"
      ],
      "text/plain": [
       "<IPython.core.display.Math object>"
      ]
     },
     "metadata": {},
     "output_type": "display_data"
    },
    {
     "name": "stdout",
     "output_type": "stream",
     "text": [
      "__________________________________________________\n"
     ]
    }
   ],
   "source": [
    "for i in range(len(f[0])):\n",
    "    print(\"substitution:\")\n",
    "    print_sub(f[0][i])\n",
    "    print(\"leads to S_polynomial:\")\n",
    "    f[1][i].print()\n",
    "    print(\"_\" * 50)"
   ]
  },
  {
   "cell_type": "code",
   "execution_count": null,
   "metadata": {
    "collapsed": true
   },
   "outputs": [],
   "source": []
  }
 ],
 "metadata": {
  "anaconda-cloud": {},
  "kernelspec": {
   "display_name": "Python [Root]",
   "language": "python",
   "name": "Python [Root]"
  },
  "language_info": {
   "codemirror_mode": {
    "name": "ipython",
    "version": 3
   },
   "file_extension": ".py",
   "mimetype": "text/x-python",
   "name": "python",
   "nbconvert_exporter": "python",
   "pygments_lexer": "ipython3",
   "version": "3.5.2"
  }
 },
 "nbformat": 4,
 "nbformat_minor": 0
}
