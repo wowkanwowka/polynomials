{
 "cells": [
  {
   "cell_type": "code",
   "execution_count": 10,
   "metadata": {
    "collapsed": false
   },
   "outputs": [],
   "source": [
    "from IPython.display import display, Math, Latex\n",
    "from itertools import product\n",
    "class monomial:\n",
    "    #just initialization\n",
    "    def __init__(self, fixed_part, running_indices):\n",
    "        self.fixed_part = fixed_part.copy()\n",
    "        self.running_indices = running_indices.copy()\n",
    "        self.list_of_indices = {elem[0] : elem[1] for elem in running_indices.keys()}\n",
    "    #gathering a latex style string to represent monomial    \n",
    "    def __str__(self):\n",
    "        result = \"\"\n",
    "        for i in self.fixed_part.keys():\n",
    "            result += \"x_\" + str(i)\n",
    "            if self.fixed_part[i] > 1:\n",
    "                result += \"^\" + str(self.fixed_part[i])\n",
    "        for i in self.running_indices.keys():\n",
    "            result += \"x_{\" + i[0] + \"+\" + str(i[1]) + \"}\"\n",
    "            if self.running_indices[i] > 1:\n",
    "                result += \"^\" + str(self.running_indices[i])\n",
    "        result = result.replace(\"+0\", \"\")\n",
    "        if len(result) == 0:\n",
    "            result = \"1\"\n",
    "        return result\n",
    "    #overriding multiplication\n",
    "    def __mul__(self, other):\n",
    "        if type(self) == type(other) and type(self) == monomial:\n",
    "            result_fix = self.fixed_part.copy()\n",
    "            result_run = self.running_indices.copy()\n",
    "            for elem in other.fixed_part.keys():\n",
    "                if elem in result_fix.keys():\n",
    "                    result_fix[elem] += other.fixed_part[elem]\n",
    "                else:\n",
    "                    result_fix[elem] = other.fixed_part[elem]\n",
    "            for elem in other.running_indices.keys():\n",
    "                if elem in result_run.keys():\n",
    "                    result_run[elem] += other.running_indices[elem]\n",
    "                else:\n",
    "                    result_run[elem] = other.running_indices[elem]\n",
    "            return monomial(result_fix, result_run)\n",
    "    #equality check\n",
    "    def __eq__(self, other):\n",
    "        return ((self.fixed_part == other.fixed_part) and (self.running_indices == other.running_indices))\n",
    "    #makes hash out from string representation in order to use monomials as dict keys\n",
    "    def __hash__(self):\n",
    "        return hash(self.__str__())\n",
    "    #changes index_to_change into what_to_insert(must be of form (\"index\", number added to \"index\"))\n",
    "    #this method changes self\n",
    "    def self_substitution(self, index_to_change, what_to_insert):\n",
    "        if index_to_change in self.list_of_indices.keys():\n",
    "            if what_to_insert[0] == \"\":\n",
    "                helper = self.running_indices.copy()\n",
    "                for elem in helper.keys():\n",
    "                    if index_to_change == elem[0]:\n",
    "                        b = what_to_insert[1] + elem[1]\n",
    "                        deg = self.running_indices[elem]\n",
    "                        self.running_indices.pop(elem)\n",
    "                        if b in self.fixed_part.keys():\n",
    "                            self.fixed_part[b] += deg\n",
    "                        else:\n",
    "                            self.fixed_part[b] = deg\n",
    "            else:\n",
    "                helper = self.running_indices.copy()\n",
    "                for elem in helper.keys():\n",
    "                    if index_to_change == elem[0]:\n",
    "                        b = what_to_insert[1] + elem[1]\n",
    "                        deg = self.running_indices[elem]\n",
    "                        self.running_indices.pop(elem)\n",
    "                        if (what_to_insert[0], b) in self.running_indices.keys():\n",
    "                            self.running_indices[(what_to_insert[0], b)] += deg\n",
    "                        else:\n",
    "                            self.running_indices[(what_to_insert[0], b)] = deg\n",
    "                #self.list_of_indices.pop(index_to_change)\n",
    "                #self.list_of_indices[what_to_insert[0]] = b\n",
    "                \n",
    "    #does the same as self_substitution, without changing self, but creating a copy        \n",
    "    def copy_substitution(self, index_to_change, what_to_insert):\n",
    "        result = monomial(self.fixed_part, self.running_indices)\n",
    "        result.self_substitution(index_to_change, what_to_insert)\n",
    "        return result\n",
    "    \n",
    "    #finds any possible substitution leading to self and other having common variables\n",
    "    def possible_intersections(self, other):\n",
    "        self_copy = monomial(self.fixed_part, self.running_indices)\n",
    "        other_copy = monomial(other.fixed_part, other.running_indices)\n",
    "        sure_fixed_part = {}\n",
    "        sure_running_indices = {}\n",
    "        possible_running_indices = {}\n",
    "        helper = self_copy.running_indices.copy()\n",
    "        for elem in helper.keys():\n",
    "            if elem in other_copy.running_indices.keys():\n",
    "                if self_copy.running_indices[elem] == other_copy.running_indices[elem]:\n",
    "                    sure_running_indices[elem] = self_copy.running_indices[elem]\n",
    "                    self_copy.running_indices.pop(elem)\n",
    "                    other_copy.running_indices.pop(elem)\n",
    "                elif other_copy.running_indices[elem] < self_copy.running_indices[elem]:\n",
    "                    sure_running_indices[elem] = other_copy.running_indices[elem]\n",
    "                    self_copy.running_indices[elem] -= other_copy.running_indices[elem]\n",
    "                    other_copy.running_indices.pop(elem)\n",
    "                else:\n",
    "                    sure_running_indices[elem] = self_copy.running_indices[elem]\n",
    "                    other_copy.running_indices[elem] -= self_copy.running_indices[elem]\n",
    "                    self_copy.running_indices.pop(elem)\n",
    "        helper = self_copy.fixed_part.copy()\n",
    "        for elem in helper.keys():\n",
    "            if elem in other_copy.fixed_part.keys():\n",
    "                if self_copy.fixed_part[elem] == other_copy.fixed_part[elem]:\n",
    "                    sure_fixed_part[elem] = self_copy.fixed_part[elem]\n",
    "                    self_copy.fixed_part.pop(elem)\n",
    "                    other_copy.fixed_part.pop(elem)\n",
    "                elif other_copy.fixed_part[elem] < self_copy.fixed_part[elem]:\n",
    "                    sure_fixed_part[elem] = other_copy.fixed_part[elem]\n",
    "                    self_copy.fixed_part[elem] -= other_copy.fixed_part[elem]\n",
    "                    other_copy.fixed_part.pop(elem)\n",
    "                else:\n",
    "                    sure_fixed_part[elem] = self_copy.fixed_part[elem]\n",
    "                    other_copy.fixed_part[elem] -= self_copy.fixed_part[elem]\n",
    "                    self_copy.running_indices.pop(elem)\n",
    "        #display(Math(self_copy.__str__()))\n",
    "        #display(Math(other_copy.__str__()))\n",
    "        for elem in self_copy.running_indices.keys():\n",
    "            listik = []\n",
    "            for elem1 in other_copy.fixed_part.keys():\n",
    "                listik.append((\"\", elem1 - elem[1]))\n",
    "                #print(elem[0], \"should be equal to \", elem1 - elem[1])\n",
    "            for elem2 in other_copy.running_indices.keys():\n",
    "                if elem2[0] != elem[0]:\n",
    "                    listik.append((elem2[0], elem2[1] - elem[1]))\n",
    "                    #print(elem[0], \"should be equal to \", elem2[0], \"+\", elem2[1] - elem[1])\n",
    "            if len(listik) > 0:\n",
    "                possible_running_indices[elem[0]] = listik\n",
    "        for elem in other_copy.running_indices.keys():\n",
    "            listik = []\n",
    "            for elem1 in self_copy.fixed_part.keys():\n",
    "                listik.append((\"\", elem1 - elem[1]))\n",
    "            if elem[0] in possible_running_indices.keys():\n",
    "                possible_running_indices[elem[0]].extend(listik)\n",
    "            elif len(listik) > 0:\n",
    "                possible_running_indices[elem[0]] = listik\n",
    "        return (monomial(sure_fixed_part, sure_running_indices), possible_running_indices)\n",
    "    \n",
    "    #just pretty latex printing function\n",
    "    def print(self):\n",
    "        display(Math(self.__str__()))\n",
    "            \n",
    "\n",
    "class polynomial:\n",
    "    #just initialization\n",
    "    def __init__(self, monomial_dict):\n",
    "        self.monomial_dict = monomial_dict.copy()\n",
    "        for elem in monomial_dict.keys():\n",
    "            if self.monomial_dict[elem] == 0:\n",
    "                self.monomial_dict.pop(elem)\n",
    "                \n",
    "    #overriding addition for polynomials            \n",
    "    def __add__(self, other):\n",
    "        result_dict = self.monomial_dict.copy()\n",
    "        for elem in other.monomial_dict.keys():\n",
    "            if elem in result_dict.keys():\n",
    "                result_dict[elem] += other.monomial_dict[elem]\n",
    "            else:\n",
    "                result_dict[elem] = other.monomial_dict[elem]\n",
    "        return polynomial(result_dict)\n",
    "    \n",
    "    #gathering a latex style string in order to represent a polynomial\n",
    "    def __str__(self):\n",
    "        result = \"\"\n",
    "        for elem in self.monomial_dict.keys():\n",
    "            if self.monomial_dict[elem] != 1 and self.monomial_dict[elem] != -1:\n",
    "                result += \"+\" + str(self.monomial_dict[elem]) + elem.__str__()\n",
    "            elif self.monomial_dict[elem] == -1:\n",
    "                result += \"-\" + elem.__str__()\n",
    "            else:\n",
    "                result += \"+\" + elem.__str__()\n",
    "        result = result.replace(\"+-\", \"-\")\n",
    "        result = result.replace(\"++\", \"+\")\n",
    "        if result[0] == \"+\":\n",
    "            result = result[1 : ]\n",
    "        return result\n",
    "    #performs a substitution same to the self_substitution for monomials\n",
    "    def self_substitution(self, index_to_change, what_to_insert):\n",
    "        for elem in self.monomial_dict.keys():\n",
    "            elem.substitution(index_to_change, what_to_insert)\n",
    "    #performs a substitution same to the copy_substitution for monomials\n",
    "    def copy_substitution(self, index_to_change, what_to_insert):\n",
    "        result = {elem.copy_substitution(index_to_change, what_to_insert) : self.monomial_dict[elem] \n",
    "                  for elem in self.monomial_dict.keys()}\n",
    "        return polynomial(result)\n",
    "    #pretty latex printing function\n",
    "    def print(self):\n",
    "        display(Math(self.__str__()))\n",
    "                \n",
    "        "
   ]
  },
  {
   "cell_type": "code",
   "execution_count": 40,
   "metadata": {
    "collapsed": false
   },
   "outputs": [],
   "source": [
    "m1 = monomial({0 : 1, 5 : 2}, {(\"k_1\", 2) :  1, (\"p\", 5) : 4})"
   ]
  },
  {
   "cell_type": "code",
   "execution_count": 41,
   "metadata": {
    "collapsed": false
   },
   "outputs": [],
   "source": [
    "m2 = monomial({0 : 1, 7 : 1}, {(\"k_1\", 1) : 9, (\"l\", 1) : 5})"
   ]
  },
  {
   "cell_type": "code",
   "execution_count": 42,
   "metadata": {
    "collapsed": false
   },
   "outputs": [
    {
     "data": {
      "text/latex": [
       "$$x_0x_5^2x_{p+5}^4x_{k_1+2}$$"
      ],
      "text/plain": [
       "<IPython.core.display.Math object>"
      ]
     },
     "metadata": {},
     "output_type": "display_data"
    },
    {
     "data": {
      "text/latex": [
       "$$x_0x_7x_{k_1+1}^9x_{l+1}^5$$"
      ],
      "text/plain": [
       "<IPython.core.display.Math object>"
      ]
     },
     "metadata": {},
     "output_type": "display_data"
    },
    {
     "data": {
      "text/latex": [
       "$$x_0$$"
      ],
      "text/plain": [
       "<IPython.core.display.Math object>"
      ]
     },
     "metadata": {},
     "output_type": "display_data"
    },
    {
     "data": {
      "text/latex": [
       "$$x_0$$"
      ],
      "text/plain": [
       "<IPython.core.display.Math object>"
      ]
     },
     "metadata": {},
     "output_type": "display_data"
    },
    {
     "name": "stdout",
     "output_type": "stream",
     "text": [
      "{'l': [('', 4)], 'p': [('', 2), ('k_1', -4), ('l', -4)], 'k_1': [('', 5), ('l', -1), ('', 4)]}\n",
      "{'l': [('', 4), ('p', 4), ('k_1', 1)], 'p': [('', 2)], 'k_1': [('', 4), ('p', 4), ('', 5)]}\n",
      "[[('l', ('', 4))], [('p', ('', 2)), ('p', ('k_1', -4)), ('p', ('l', -4))], [('k_1', ('', 5)), ('k_1', ('l', -1)), ('k_1', ('', 4))]]\n",
      "[(('l', ('', 4)), ('p', ('', 2)), ('k_1', ('', 5))), (('l', ('', 4)), ('p', ('', 2)), ('k_1', ('l', -1))), (('l', ('', 4)), ('p', ('', 2)), ('k_1', ('', 4))), (('l', ('', 4)), ('p', ('k_1', -4)), ('k_1', ('', 5))), (('l', ('', 4)), ('p', ('k_1', -4)), ('k_1', ('l', -1))), (('l', ('', 4)), ('p', ('k_1', -4)), ('k_1', ('', 4))), (('l', ('', 4)), ('p', ('l', -4)), ('k_1', ('', 5))), (('l', ('', 4)), ('p', ('l', -4)), ('k_1', ('l', -1))), (('l', ('', 4)), ('p', ('l', -4)), ('k_1', ('', 4)))]\n"
     ]
    }
   ],
   "source": [
    "m1.print()\n",
    "m2.print()\n",
    "m5, dict5 = m1.possible_intersections(m2)\n",
    "m6, dict6 = m2.possible_intersections(m1)\n",
    "m5.print()\n",
    "m6.print()\n",
    "print(dict5)\n",
    "print(dict6)\n",
    "list5 = [[(key, value)  for value in dict5[key]] for key in dict5.keys()]\n",
    "print(list5)\n",
    "print(list(product(*list5)))"
   ]
  },
  {
   "cell_type": "code",
   "execution_count": 101,
   "metadata": {
    "collapsed": true
   },
   "outputs": [],
   "source": []
  },
  {
   "cell_type": "code",
   "execution_count": 140,
   "metadata": {
    "collapsed": false
   },
   "outputs": [
    {
     "data": {
      "text/latex": [
       "$$x_0^2x_7x_{k+4}^9x_{k+2}x_{l+1}^5$$"
      ],
      "text/plain": [
       "<IPython.core.display.Math object>"
      ]
     },
     "metadata": {},
     "output_type": "display_data"
    }
   ],
   "source": [
    "display(Math(m3.__str__()))"
   ]
  },
  {
   "cell_type": "code",
   "execution_count": 244,
   "metadata": {
    "collapsed": false
   },
   "outputs": [],
   "source": [
    "m3 = m1 * m1"
   ]
  },
  {
   "cell_type": "code",
   "execution_count": 245,
   "metadata": {
    "collapsed": false
   },
   "outputs": [
    {
     "data": {
      "text/latex": [
       "$$x_0x_{k+1}$$"
      ],
      "text/plain": [
       "<IPython.core.display.Math object>"
      ]
     },
     "metadata": {},
     "output_type": "display_data"
    },
    {
     "data": {
      "text/latex": [
       "$$x_1x_{k}$$"
      ],
      "text/plain": [
       "<IPython.core.display.Math object>"
      ]
     },
     "metadata": {},
     "output_type": "display_data"
    },
    {
     "data": {
      "text/latex": [
       "$$x_0^2x_{k+1}^2$$"
      ],
      "text/plain": [
       "<IPython.core.display.Math object>"
      ]
     },
     "metadata": {},
     "output_type": "display_data"
    }
   ],
   "source": [
    "display(Math(m1.__str__()))\n",
    "display(Math(m2.__str__()))\n",
    "display(Math(m3.__str__()))"
   ]
  },
  {
   "cell_type": "code",
   "execution_count": 145,
   "metadata": {
    "collapsed": false
   },
   "outputs": [
    {
     "data": {
      "text/plain": [
       "False"
      ]
     },
     "execution_count": 145,
     "metadata": {},
     "output_type": "execute_result"
    }
   ],
   "source": [
    "m1 == m2"
   ]
  },
  {
   "cell_type": "code",
   "execution_count": 146,
   "metadata": {
    "collapsed": false
   },
   "outputs": [
    {
     "data": {
      "text/plain": [
       "True"
      ]
     },
     "execution_count": 146,
     "metadata": {},
     "output_type": "execute_result"
    }
   ],
   "source": [
    "m1 == m1"
   ]
  },
  {
   "cell_type": "code",
   "execution_count": 147,
   "metadata": {
    "collapsed": false
   },
   "outputs": [
    {
     "data": {
      "text/plain": [
       "False"
      ]
     },
     "execution_count": 147,
     "metadata": {},
     "output_type": "execute_result"
    }
   ],
   "source": [
    "m3 == m1"
   ]
  },
  {
   "cell_type": "code",
   "execution_count": 236,
   "metadata": {
    "collapsed": false
   },
   "outputs": [],
   "source": [
    "m1.substitution(\"u\", (\"l\", 8))"
   ]
  },
  {
   "cell_type": "code",
   "execution_count": 158,
   "metadata": {
    "collapsed": true
   },
   "outputs": [],
   "source": [
    "dictic = {0:1, 5:4}"
   ]
  },
  {
   "cell_type": "code",
   "execution_count": 161,
   "metadata": {
    "collapsed": false
   },
   "outputs": [
    {
     "data": {
      "text/plain": [
       "dict_keys([0, 5])"
      ]
     },
     "execution_count": 161,
     "metadata": {},
     "output_type": "execute_result"
    }
   ],
   "source": [
    "dictic.keys()"
   ]
  },
  {
   "cell_type": "code",
   "execution_count": 162,
   "metadata": {
    "collapsed": false
   },
   "outputs": [
    {
     "data": {
      "text/plain": [
       "True"
      ]
     },
     "execution_count": 162,
     "metadata": {},
     "output_type": "execute_result"
    }
   ],
   "source": [
    "0 in dictic.keys()"
   ]
  },
  {
   "cell_type": "code",
   "execution_count": 188,
   "metadata": {
    "collapsed": false
   },
   "outputs": [
    {
     "data": {
      "text/latex": [
       "$$x_0x_{l+12}$$"
      ],
      "text/plain": [
       "<IPython.core.display.Math object>"
      ]
     },
     "metadata": {},
     "output_type": "display_data"
    }
   ],
   "source": [
    "display(Math(m1.__str__()))"
   ]
  },
  {
   "cell_type": "code",
   "execution_count": 189,
   "metadata": {
    "collapsed": true
   },
   "outputs": [],
   "source": [
    "m4 = m1 * m3"
   ]
  },
  {
   "cell_type": "code",
   "execution_count": 1,
   "metadata": {
    "collapsed": false
   },
   "outputs": [
    {
     "ename": "NameError",
     "evalue": "name 'display' is not defined",
     "output_type": "error",
     "traceback": [
      "\u001b[0;31m---------------------------------------------------------------------------\u001b[0m",
      "\u001b[0;31mNameError\u001b[0m                                 Traceback (most recent call last)",
      "\u001b[0;32m<ipython-input-1-49356b23c5c9>\u001b[0m in \u001b[0;36m<module>\u001b[0;34m()\u001b[0m\n\u001b[0;32m----> 1\u001b[0;31m \u001b[0mdisplay\u001b[0m\u001b[0;34m(\u001b[0m\u001b[0mMath\u001b[0m\u001b[0;34m(\u001b[0m\u001b[0mm4\u001b[0m\u001b[0;34m.\u001b[0m\u001b[0m__str__\u001b[0m\u001b[0;34m(\u001b[0m\u001b[0;34m)\u001b[0m\u001b[0;34m)\u001b[0m\u001b[0;34m)\u001b[0m\u001b[0;34m\u001b[0m\u001b[0m\n\u001b[0m",
      "\u001b[0;31mNameError\u001b[0m: name 'display' is not defined"
     ]
    }
   ],
   "source": [
    "display(Math(m4.__str__()))"
   ]
  },
  {
   "cell_type": "code",
   "execution_count": 254,
   "metadata": {
    "collapsed": true
   },
   "outputs": [],
   "source": [
    "string = \"+jfshadof+-asdfwfv-+\""
   ]
  },
  {
   "cell_type": "code",
   "execution_count": 255,
   "metadata": {
    "collapsed": false
   },
   "outputs": [],
   "source": [
    "string = string[1 : ]"
   ]
  },
  {
   "cell_type": "code",
   "execution_count": 232,
   "metadata": {
    "collapsed": false
   },
   "outputs": [],
   "source": [
    "f1 = polynomial({m1 : -1, m2: -2})"
   ]
  },
  {
   "cell_type": "code",
   "execution_count": 233,
   "metadata": {
    "collapsed": false
   },
   "outputs": [
    {
     "data": {
      "text/latex": [
       "$$-2x_0x_7x_{k+4}^9x_{l+1}^5-x_0x_{k+2}$$"
      ],
      "text/plain": [
       "<IPython.core.display.Math object>"
      ]
     },
     "metadata": {},
     "output_type": "display_data"
    }
   ],
   "source": [
    "display(Math(f1.__str__()))"
   ]
  },
  {
   "cell_type": "code",
   "execution_count": 269,
   "metadata": {
    "collapsed": false
   },
   "outputs": [
    {
     "data": {
      "text/latex": [
       "$$2x_0x_{k_1+1}-x_1x_{k_1}+5x_5^2x_{k_2+8}^4$$"
      ],
      "text/plain": [
       "<IPython.core.display.Math object>"
      ]
     },
     "metadata": {},
     "output_type": "display_data"
    }
   ],
   "source": [
    "m1 = monomial({0 : 1}, {(\"k_1\", 1) : 1})\n",
    "m2 = monomial({1 : 1}, {(\"k_1\", 0) : 1})\n",
    "m3 = monomial({5 : 2}, {(\"k_2\", 8) : 4})\n",
    "f1 = polynomial({m1 : 1, m2 : -1})\n",
    "f2 = polynomial({m2 : 1, m3 : 5})\n",
    "f = f1 + f2 + f1\n",
    "display(Math(f.__str__()))"
   ]
  },
  {
   "cell_type": "code",
   "execution_count": 323,
   "metadata": {
    "collapsed": false
   },
   "outputs": [
    {
     "data": {
      "text/latex": [
       "$$x_0x_7^3x_{l+3}^3x_{k+4}x_{f+4}^4x_{k+2}$$"
      ],
      "text/plain": [
       "<IPython.core.display.Math object>"
      ]
     },
     "metadata": {},
     "output_type": "display_data"
    }
   ],
   "source": [
    "m3 = monomial({0 : 1, 7 : 3}, {(\"l\", 3) : 3, (\"k\", 2) : 1, (\"k\", 4) : 1, (\"f\", 4) : 4})\n",
    "display(Math(m3.__str__()))"
   ]
  },
  {
   "cell_type": "code",
   "execution_count": 324,
   "metadata": {
    "collapsed": false
   },
   "outputs": [
    {
     "data": {
      "text/latex": [
       "$$x_0x_3x_5x_7^3x_{l+3}^3x_{f+4}^4$$"
      ],
      "text/plain": [
       "<IPython.core.display.Math object>"
      ]
     },
     "metadata": {},
     "output_type": "display_data"
    }
   ],
   "source": [
    "m3.self_substitution(\"k\", (\"\", 1))\n",
    "display(Math(m3.__str__()))"
   ]
  },
  {
   "cell_type": "code",
   "execution_count": 344,
   "metadata": {
    "collapsed": false
   },
   "outputs": [
    {
     "data": {
      "text/latex": [
       "$$0$$"
      ],
      "text/plain": [
       "0"
      ]
     },
     "execution_count": 344,
     "metadata": {},
     "output_type": "execute_result"
    }
   ],
   "source": [
    "len({})"
   ]
  },
  {
   "cell_type": "code",
   "execution_count": 381,
   "metadata": {
    "collapsed": false
   },
   "outputs": [
    {
     "data": {
      "text/latex": [
       "$$\\left \\{ 1 : \\left [ 1, \\quad 2, \\quad 3\\right ]\\right \\}$$"
      ],
      "text/plain": [
       "{1: [1, 2, 3]}"
      ]
     },
     "execution_count": 381,
     "metadata": {},
     "output_type": "execute_result"
    }
   ],
   "source": [
    "{1 : [1, 2, 3]}"
   ]
  },
  {
   "cell_type": "code",
   "execution_count": 382,
   "metadata": {
    "collapsed": true
   },
   "outputs": [],
   "source": [
    "possible = {}"
   ]
  },
  {
   "cell_type": "code",
   "execution_count": 383,
   "metadata": {
    "collapsed": true
   },
   "outputs": [],
   "source": [
    "possible[\"k\"] = [1, 2, 3]"
   ]
  },
  {
   "cell_type": "code",
   "execution_count": 384,
   "metadata": {
    "collapsed": false
   },
   "outputs": [
    {
     "data": {
      "text/plain": [
       "{'k': [1, 2, 3]}"
      ]
     },
     "execution_count": 384,
     "metadata": {},
     "output_type": "execute_result"
    }
   ],
   "source": [
    "possible"
   ]
  },
  {
   "cell_type": "code",
   "execution_count": 394,
   "metadata": {
    "collapsed": false
   },
   "outputs": [
    {
     "data": {
      "text/latex": [
       "$$x_0x_{k+2}$$"
      ],
      "text/plain": [
       "<IPython.core.display.Math object>"
      ]
     },
     "metadata": {},
     "output_type": "display_data"
    }
   ],
   "source": [
    "m1.print()"
   ]
  },
  {
   "cell_type": "code",
   "execution_count": 28,
   "metadata": {
    "collapsed": true
   },
   "outputs": [],
   "source": [
    "listik = [1, 2, 3], [4, 5, 6], [7, 8, 9]"
   ]
  },
  {
   "cell_type": "code",
   "execution_count": 30,
   "metadata": {
    "collapsed": false
   },
   "outputs": [
    {
     "name": "stdout",
     "output_type": "stream",
     "text": [
      "([1, 2, 3], [4, 5, 6], [7, 8, 9])\n"
     ]
    }
   ],
   "source": [
    "print(listik)"
   ]
  },
  {
   "cell_type": "code",
   "execution_count": 31,
   "metadata": {
    "collapsed": false
   },
   "outputs": [
    {
     "name": "stdout",
     "output_type": "stream",
     "text": [
      "[(1, 4, 7), (1, 4, 8), (1, 4, 9), (1, 5, 7), (1, 5, 8), (1, 5, 9), (1, 6, 7), (1, 6, 8), (1, 6, 9), (2, 4, 7), (2, 4, 8), (2, 4, 9), (2, 5, 7), (2, 5, 8), (2, 5, 9), (2, 6, 7), (2, 6, 8), (2, 6, 9), (3, 4, 7), (3, 4, 8), (3, 4, 9), (3, 5, 7), (3, 5, 8), (3, 5, 9), (3, 6, 7), (3, 6, 8), (3, 6, 9)]\n"
     ]
    }
   ],
   "source": [
    "print(list(product(*listik)))"
   ]
  },
  {
   "cell_type": "code",
   "execution_count": 38,
   "metadata": {
    "collapsed": false
   },
   "outputs": [
    {
     "data": {
      "text/plain": [
       "True"
      ]
     },
     "execution_count": 38,
     "metadata": {},
     "output_type": "execute_result"
    }
   ],
   "source": [
    "type(m1) == monomial"
   ]
  },
  {
   "cell_type": "code",
   "execution_count": 34,
   "metadata": {
    "collapsed": false
   },
   "outputs": [
    {
     "data": {
      "text/plain": [
       "__main__.polynomial"
      ]
     },
     "execution_count": 34,
     "metadata": {},
     "output_type": "execute_result"
    }
   ],
   "source": [
    "type(polynomial({m1 : 1, m2 : 3}))"
   ]
  },
  {
   "cell_type": "code",
   "execution_count": null,
   "metadata": {
    "collapsed": true
   },
   "outputs": [],
   "source": []
  }
 ],
 "metadata": {
  "anaconda-cloud": {},
  "kernelspec": {
   "display_name": "Python [Root]",
   "language": "python",
   "name": "Python [Root]"
  },
  "language_info": {
   "codemirror_mode": {
    "name": "ipython",
    "version": 3
   },
   "file_extension": ".py",
   "mimetype": "text/x-python",
   "name": "python",
   "nbconvert_exporter": "python",
   "pygments_lexer": "ipython3",
   "version": "3.5.2"
  }
 },
 "nbformat": 4,
 "nbformat_minor": 0
}
